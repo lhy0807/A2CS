{
 "cells": [
  {
   "cell_type": "code",
   "execution_count": 1,
   "metadata": {},
   "outputs": [
    {
     "name": "stderr",
     "output_type": "stream",
     "text": [
      "Using TensorFlow backend.\n"
     ]
    }
   ],
   "source": [
    "import h5py\n",
    "import numpy as np\n",
    "from sklearn.utils import shuffle\n",
    "from keras.models import *\n",
    "from keras.layers import *\n",
    "import xlsxwriter\n",
    "import os\n",
    "from keras.preprocessing.image import *"
   ]
  },
  {
   "cell_type": "code",
   "execution_count": 2,
   "metadata": {
    "collapsed": true
   },
   "outputs": [],
   "source": [
    "X_train = []\n",
    "X_test = []\n",
    "for filename in [\"gap_ResNet50.h5\", \"gap_Xception.h5\", \"gap_InceptionV3.h5\", \"gap_VGG19.h5\"]:\n",
    "    with h5py.File(filename, 'r') as h:\n",
    "        X_train.append(np.array(h['train']))\n",
    "        X_test.append(np.array(h['test']))\n",
    "        y_train = np.array(h['label'])\n",
    "X_train = np.concatenate(X_train, axis=1)\n",
    "X_test = np.concatenate(X_test, axis=1)\n",
    "X_train, y_train = shuffle(X_train, y_train)"
   ]
  },
  {
   "cell_type": "code",
   "execution_count": 6,
   "metadata": {},
   "outputs": [
    {
     "name": "stdout",
     "output_type": "stream",
     "text": [
      "Train on 20000 samples, validate on 5000 samples\n",
      "Epoch 1/10\n",
      "20000/20000 [==============================] - 1s - loss: 0.2278 - acc: 0.9158 - val_loss: 0.0357 - val_acc: 0.9880\n",
      "Epoch 2/10\n",
      "20000/20000 [==============================] - 1s - loss: 0.0409 - acc: 0.9847 - val_loss: 0.0279 - val_acc: 0.9908\n",
      "Epoch 3/10\n",
      "20000/20000 [==============================] - 1s - loss: 0.0281 - acc: 0.9903 - val_loss: 0.0264 - val_acc: 0.9914\n",
      "Epoch 4/10\n",
      "20000/20000 [==============================] - 1s - loss: 0.0242 - acc: 0.9922 - val_loss: 0.0257 - val_acc: 0.9920\n",
      "Epoch 5/10\n",
      "20000/20000 [==============================] - 1s - loss: 0.0194 - acc: 0.9936 - val_loss: 0.0250 - val_acc: 0.9930\n",
      "Epoch 6/10\n",
      "20000/20000 [==============================] - 1s - loss: 0.0184 - acc: 0.9941 - val_loss: 0.0260 - val_acc: 0.9920\n",
      "Epoch 7/10\n",
      "20000/20000 [==============================] - 1s - loss: 0.0176 - acc: 0.9941 - val_loss: 0.0252 - val_acc: 0.9924\n",
      "Epoch 8/10\n",
      "20000/20000 [==============================] - 1s - loss: 0.0167 - acc: 0.9951 - val_loss: 0.0249 - val_acc: 0.9932\n",
      "Epoch 9/10\n",
      "20000/20000 [==============================] - 1s - loss: 0.0142 - acc: 0.9955 - val_loss: 0.0257 - val_acc: 0.9926\n",
      "Epoch 10/10\n",
      "20000/20000 [==============================] - 1s - loss: 0.0138 - acc: 0.9954 - val_loss: 0.0253 - val_acc: 0.9926\n"
     ]
    }
   ],
   "source": [
    "input_tensor = Input(X_train.shape[1:])\n",
    "x = Dropout(0.5)(input_tensor)\n",
    "x = Dense(1, activation='sigmoid')(x)\n",
    "model = Model(input_tensor, x)\n",
    "model.compile(optimizer='adadelta',\n",
    "              loss='binary_crossentropy',\n",
    "              metrics=['accuracy'])\n",
    "\n",
    "model.fit(X_train, y_train, batch_size=128, epochs=10, validation_split=0.2)\n",
    "model.save_weights('dog_cat.h5')"
   ]
  },
  {
   "cell_type": "code",
   "execution_count": 4,
   "metadata": {},
   "outputs": [
    {
     "name": "stdout",
     "output_type": "stream",
     "text": [
      "12032/12500 [===========================>..] - ETA: 0sFound 12500 images belonging to 1 classes.\n"
     ]
    }
   ],
   "source": [
    "y_pred = model.predict(X_test, verbose=1)\n",
    "y_pred = y_pred.clip(min=0.005, max=0.995)\n",
    "gen = ImageDataGenerator()\n",
    "test_generator = gen.flow_from_directory(\"test\", (224, 224), shuffle=False, \n",
    "                                         batch_size=16, class_mode=None)\n",
    "arranged_arr = np.zeros(len(test_generator.filenames))\n",
    "list = os.listdir('test/test')\n",
    "list.sort()\n",
    "for i in range(len(list)):\n",
    "    num = int(list[i].split('.')[0])\n",
    "    arranged_arr[num-1] = y_pred[i]"
   ]
  },
  {
   "cell_type": "code",
   "execution_count": 5,
   "metadata": {
    "collapsed": true
   },
   "outputs": [],
   "source": [
    "workbook = xlsxwriter.Workbook('pred.xlsx')\n",
    "worksheet = workbook.add_worksheet()\n",
    "for i in range(len(arranged_arr)):\n",
    "    worksheet.write(i,1,arranged_arr[i])\n",
    "workbook.close()"
   ]
  }
 ],
 "metadata": {
  "kernelspec": {
   "display_name": "Python 3",
   "language": "python",
   "name": "python3"
  },
  "language_info": {
   "codemirror_mode": {
    "name": "ipython",
    "version": 3
   },
   "file_extension": ".py",
   "mimetype": "text/x-python",
   "name": "python",
   "nbconvert_exporter": "python",
   "pygments_lexer": "ipython3",
   "version": "3.5.3"
  }
 },
 "nbformat": 4,
 "nbformat_minor": 2
}
